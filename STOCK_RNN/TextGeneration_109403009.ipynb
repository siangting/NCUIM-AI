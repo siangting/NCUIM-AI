{
  "nbformat": 4,
  "nbformat_minor": 0,
  "metadata": {
    "accelerator": "GPU",
    "colab": {
      "name": "TextGeneration-109403009.ipynb",
      "provenance": [],
      "collapsed_sections": []
    },
    "kernelspec": {
      "display_name": "Python 3",
      "name": "python3"
    }
  },
  "cells": [
    {
      "cell_type": "markdown",
      "metadata": {
        "id": "wRBvwrOM15OY"
      },
      "source": [
        "<img src=\"https://i.imgur.com/12tfKrD.png\" alt=\"Alin\">\n",
        "</img>\n",
        "\n",
        "\n",
        "# Demo RNN -- 張愛玲散文集AI二次創作\n",
        "\n",
        "資料集: 張愛玲繁體中文小說 《傳奇》\n",
        "\n",
        "爬蟲來源: [crawl_book](https://colab.research.google.com/drive/1f_HvQEvgkJPFc473TlA-I_3EmkThA2SR?usp=sharing)\n",
        "\n",
        "程式碼參考: [Tensorflow](https://www.tensorflow.org/tutorials/text/text_generation)\n",
        "\n",
        "本次資料集，著作權乃是張愛玲女士所擁有。**請勿將本次資料集散播、更改、用於非商業用途**。\n",
        "\n",
        "> **資料集說明**\n",
        "\n",
        "今年是張愛玲女士101年誕辰。張愛玲出生名門，曾就讀於香港大學和聖約翰大學，受過良好的中西教育。上海淪陷時期，陸續發表《沉香屑·第一爐香》、《傾城之戀》、《心經》、《金鎖記》等中、短篇小說，震動上海文壇。\n",
        "\n",
        "這次訓練取張愛玲散文集《傳奇》作為訓練，《傳奇》收留五篇散文: 「留情」、「鴻鸞禧」、「紅玫瑰與白玫瑰」、「等」、「桂花蒸阿小悲秋」。其中以「紅玫瑰與白玫瑰」最為膾炙人口。\n",
        "\n",
        "> **訓練步驟**\n",
        "\n",
        "深度學習在訓練模型上有以下幾個重要的步驟:\n",
        "1. 讀入相關封包\n",
        "2. 取得資料集 \n",
        "3. 資料前處理\n",
        "4. 建立模型\n",
        "5. 制定訓練計畫\n",
        "6. 評估模型\n",
        "7. 做預測\n",
        "\n",
        "> **本次模型介紹 RNN**\n",
        "\n",
        "![](https://i.imgur.com/FaY50C8.png)\n",
        "\n",
        "\n",
        "我們來看看維度，很多人會搞不懂RNN的維度:\n",
        "\n",
        "一個Seq通過RNN後的維度\n",
        "\n",
        "* Input: (Seq,${originDim}$)\n",
        "* RNN Neuron: 2048\n",
        "* Output: (Seq,2048) if (return_sequence == True) else (1,2048)\n",
        "![](https://i.imgur.com/9SVl6JR.png)\n",
        "\n",
        "![](https://i.imgur.com/z4ElFIr.png)\n",
        "\n",
        "> **把生成問題變成分類問題**\n",
        "\n",
        "![](https://i.imgur.com/TBHKuf6.png)\n"
      ]
    },
    {
      "cell_type": "code",
      "metadata": {
        "id": "HoKPksUD96Mb",
        "colab": {
          "base_uri": "https://localhost:8080/"
        },
        "outputId": "1c3f258f-8608-46ae-b111-31e0b2a7924c"
      },
      "source": [
        "# ****************************************\n",
        "# **請勿將本次資料集散播、用於非學術用途**\n",
        "# ****************************************\n",
        "\n",
        "# 執行即代表同意將會合法、合理使用資料集\n",
        "\n",
        "!gdown --id 1gMpt0CdlPjr1cR3HwDqumeKaucrSYhhe --output \"./Eileen_Legendary.txt\"\n",
        "\n",
        "# !wget -O Eileen_Legendary.txt \"http://140.115.82.54/NN/Recurrent/Eileen_Legendary.txt\""
      ],
      "execution_count": null,
      "outputs": [
        {
          "output_type": "stream",
          "name": "stdout",
          "text": [
            "/usr/local/lib/python3.7/dist-packages/gdown/cli.py:131: FutureWarning: Option `--id` was deprecated in version 4.3.1 and will be removed in 5.0. You don't need to pass it anymore to use a file ID.\n",
            "  category=FutureWarning,\n",
            "Downloading...\n",
            "From: https://drive.google.com/uc?id=1gMpt0CdlPjr1cR3HwDqumeKaucrSYhhe\n",
            "To: /content/Eileen_Legendary.txt\n",
            "100% 818k/818k [00:00<00:00, 141MB/s]\n"
          ]
        }
      ]
    },
    {
      "cell_type": "markdown",
      "metadata": {
        "id": "_aEUrr67TzFb"
      },
      "source": [
        "## 1. 讀入Package"
      ]
    },
    {
      "cell_type": "code",
      "metadata": {
        "id": "pPCmAo0Q_G3i"
      },
      "source": [
        "import numpy as np\n",
        "import tensorflow as tf\n",
        "import pandas as pd\n",
        "from tensorflow import keras\n",
        "from tensorflow.keras import layers\n",
        "import os\n",
        "import matplotlib.pyplot as plt"
      ],
      "execution_count": null,
      "outputs": []
    },
    {
      "cell_type": "markdown",
      "metadata": {
        "id": "Y550TvUGT9xv"
      },
      "source": [
        "## 2. 取得資料集"
      ]
    },
    {
      "cell_type": "code",
      "metadata": {
        "id": "1Mbvzh_9_Tz8",
        "outputId": "4622b6bd-a290-4a2a-8260-01f9997903d6",
        "colab": {
          "base_uri": "https://localhost:8080/"
        }
      },
      "source": [
        "# 作業之一就是試試看其他本小說\n",
        "\n",
        "book = \"\"\n",
        "with open(\"/content/You_Are_the_Apple_of_My_Eye.txt\",\"r\",encoding=\"utf8\") as file:\n",
        "  for line in file:\n",
        "    book += line\n",
        "\n",
        "book_length = len(book)\n",
        "unique_words = set(book)\n",
        "print(f\"《那些年，我們一起追的女孩》共有 {book_length} 字詞\")\n",
        "print(f\"包含了 {len(unique_words)} 個獨一無二的字 (含標點符號)\\n\")\n",
        "print(book[0:500])"
      ],
      "execution_count": null,
      "outputs": [
        {
          "output_type": "stream",
          "name": "stdout",
          "text": [
            "《那些年，我們一起追的女孩》共有 97045 字詞\n",
            "包含了 2722 個獨一無二的字 (含標點符號)\n",
            "\n",
            "\n",
            "《二○一七年五月五日版》\n",
            "《好讀書櫃》典藏版\n",
            "內容簡介\n",
            "「歷時三年構思、一年籌備、十個月的拍攝與後製，電影奮力走出了小說，躍上了大銀幕。我也終於學會，不用傷口，就記住青春裡最重要的事。這場戰鬥獻給你們，一路支持我的讀者。獻給，我的女孩。」──九把刀\n",
            "男孩用電影打造了時光機，只為了再一次與女孩相遇。\n",
            "8/19，帶著你的命中註定，走進電影院，再一次收藏青春\n",
            "我將一句話遺留在青春裡。\n",
            "現在，我想跟妳說……\n",
            "多年以後，故事，終於找到了重新開始的方法\n",
            "胡鬧搞怪？\n",
            "叛逆熱血？\n",
            "對抗無聊的大人？\n",
            "不，\n",
            "我的青春，都是妳。\n",
            "一場名為青春的潮水淹沒了我們。\n",
            "浪退時，渾身溼透的我們一起坐在沙灘上，\n",
            "看著我們最喜愛的女孩子用力揮舞雙手，幸福踏向人生的另一端。\n",
            "下一次浪來，會帶走女孩留在沙灘上的美好足跡。\n",
            "但我們還在。\n",
            "刻在我們心中的女孩模樣，也還會在。\n",
            "豪情不減，嘻笑當年。\n",
            "作者簡介\n",
            "九把刀（1978年8月25日─），本名柯景騰（Giddens Ko），台灣作家，彰化縣人。國立交通大學管理科學系學士，東海大學社會學系碩士。群星瑞智國際藝能有限公司所屬。因提交小說做為論文資料的一部分，發現自己適合從事寫作，\n"
          ]
        }
      ]
    },
    {
      "cell_type": "markdown",
      "metadata": {
        "id": "Anv0UglDUQk2"
      },
      "source": [
        "## 3. 資料前處理\n",
        "\n",
        "文字前處理有一堆方法、作法:\n",
        "* 切字\n",
        "* 還原\n",
        "* 清除特殊字符\n",
        "* 清除不常見字符 (StopWord)\n",
        "\n",
        "\n",
        "我這裡僅使用去除不常見的字(StopWord)"
      ]
    },
    {
      "cell_type": "code",
      "metadata": {
        "id": "tQDQ8hxBEa6d"
      },
      "source": [
        "# 計算字數統計\n",
        "words_count = {}\n",
        "for w in book:\n",
        "  if w in words_count:\n",
        "    words_count[w] += 1\n",
        "  else:\n",
        "    words_count[w] = 1\n",
        "\n",
        "words_count = sorted(words_count.items(),key=lambda x:x[1])"
      ],
      "execution_count": null,
      "outputs": []
    },
    {
      "cell_type": "code",
      "metadata": {
        "colab": {
          "base_uri": "https://localhost:8080/"
        },
        "id": "VT90O679Fe0T",
        "outputId": "2ba5a13f-9ecb-45cd-8c1e-e7dc7c77e19f"
      },
      "source": [
        "stop_word = 8\n",
        "unique_words = [w_tup[0] for w_tup in words_count if w_tup[1]>stop_word]\n",
        "print(f\"去除次數小於{stop_word}的文字剩餘 : {len(unique_words)}\")"
      ],
      "execution_count": null,
      "outputs": [
        {
          "output_type": "stream",
          "name": "stdout",
          "text": [
            "去除次數小於8的文字剩餘 : 1137\n"
          ]
        }
      ]
    },
    {
      "cell_type": "code",
      "metadata": {
        "colab": {
          "base_uri": "https://localhost:8080/"
        },
        "id": "e_uP5gOVIy2K",
        "outputId": "b9f9c3a6-120c-459c-ba4c-afce0856f23c"
      },
      "source": [
        "print(f\"原本《那些年，我們一起追的女孩》共有 {book_length} 字詞\")\n",
        "print(f\"去除不常出現的文字後\")\n",
        "book = [w for w in book if w in unique_words]\n",
        "print(f\"剩餘{len(book)}個字\")"
      ],
      "execution_count": null,
      "outputs": [
        {
          "output_type": "stream",
          "name": "stdout",
          "text": [
            "原本《那些年，我們一起追的女孩》共有 97045 字詞\n",
            "去除不常出現的文字後\n",
            "剩餘92167個字\n"
          ]
        }
      ]
    },
    {
      "cell_type": "code",
      "metadata": {
        "colab": {
          "base_uri": "https://localhost:8080/"
        },
        "id": "6LP0BwFDAmcS",
        "outputId": "94efc769-ba40-4b86-c029-278ea1602029"
      },
      "source": [
        "# 文字轉數字(index)\n",
        "word_2_index = {word:index for index,word in enumerate(unique_words)}\n",
        "index_2_word = {word_2_index[word]:word for word in word_2_index}\n",
        "\n",
        "book_2_index = [word_2_index[w] for w in book]\n",
        "\n",
        "print(\"原始文字 : \")\n",
        "print(book[:40])\n",
        "print(\"-\"*40)\n",
        "print(\"轉成index : \")\n",
        "print({word_2_index[w] for w in book[:40]})"
      ],
      "execution_count": null,
      "outputs": [
        {
          "output_type": "stream",
          "name": "stdout",
          "text": [
            "原始文字 : \n",
            "['\\n', '《', '二', '○', '一', '七', '年', '五', '月', '五', '日', '版', '》', '\\n', '《', '好', '讀', '書', '》', '典', '藏', '版', '\\n', '內', '容', '簡', '介', '\\n', '「', '歷', '時', '三', '年', '構', '思', '、', '一', '年', '備', '、']\n",
            "----------------------------------------\n",
            "轉成index : \n",
            "{642, 1028, 1035, 800, 424, 1068, 688, 827, 59, 828, 829, 60, 704, 198, 839, 199, 713, 1100, 594, 1109, 867, 1129, 1002, 1131, 1132, 236, 748, 886, 380}\n"
          ]
        }
      ]
    },
    {
      "cell_type": "code",
      "metadata": {
        "id": "H-KDv4kqgxLH"
      },
      "source": [
        "def ind2word_seq(seq):\n",
        "  return [index_2_word[i] for i in seq]"
      ],
      "execution_count": null,
      "outputs": []
    },
    {
      "cell_type": "code",
      "metadata": {
        "colab": {
          "base_uri": "https://localhost:8080/"
        },
        "id": "_aDyjJymDmVv",
        "outputId": "58208a76-9d67-4fd0-d5a6-740e5c3b97f2"
      },
      "source": [
        "# 設定輸入模型長度\n",
        "seq_len = 20\n",
        "characters = tf.data.Dataset.from_tensor_slices(book_2_index)\n",
        "# characters = characters.map(lambda w:word_2_index[w.item()])\n",
        "\n",
        "sequences = characters.batch(seq_len+1,drop_remainder=True)\n",
        "\n",
        "for seq in sequences.take(2):\n",
        "  print(seq.shape)\n",
        "  print(seq)\n",
        "  print([index_2_word[i] for i in seq.numpy()])"
      ],
      "execution_count": null,
      "outputs": [
        {
          "output_type": "stream",
          "name": "stdout",
          "text": [
            "(21,)\n",
            "tf.Tensor(\n",
            "[1132  827  828   59 1131  688 1028  800  867  800  839  236  829 1132\n",
            "  827 1109  704 1035  829  380  198], shape=(21,), dtype=int32)\n",
            "['\\n', '《', '二', '○', '一', '七', '年', '五', '月', '五', '日', '版', '》', '\\n', '《', '好', '讀', '書', '》', '典', '藏']\n",
            "(21,)\n",
            "tf.Tensor(\n",
            "[ 236 1132  642  713  748  199 1132 1129  424 1100 1002 1028   60  886\n",
            " 1068 1131 1028  594 1068  960 1120], shape=(21,), dtype=int32)\n",
            "['版', '\\n', '內', '容', '簡', '介', '\\n', '「', '歷', '時', '三', '年', '構', '思', '、', '一', '年', '備', '、', '十', '個']\n"
          ]
        }
      ]
    },
    {
      "cell_type": "markdown",
      "metadata": {
        "id": "1-dxqFkd7RU1"
      },
      "source": [
        "![](https://i.imgur.com/YMVMFEJ.png)\n"
      ]
    },
    {
      "cell_type": "code",
      "metadata": {
        "colab": {
          "base_uri": "https://localhost:8080/"
        },
        "id": "jhFC16MdLONw",
        "outputId": "5b0e0a19-c3c1-4956-8c4b-104734e714f2"
      },
      "source": [
        "# 做input、target切割\n",
        "def split_input_target(seq):\n",
        "  input_txt = seq[:-1]\n",
        "  target_txt = seq[1:]\n",
        "  return input_txt,target_txt\n",
        "\n",
        "split_input_target(list(\"Tensorflow\"))"
      ],
      "execution_count": null,
      "outputs": [
        {
          "output_type": "execute_result",
          "data": {
            "text/plain": [
              "(['T', 'e', 'n', 's', 'o', 'r', 'f', 'l', 'o'],\n",
              " ['e', 'n', 's', 'o', 'r', 'f', 'l', 'o', 'w'])"
            ]
          },
          "metadata": {},
          "execution_count": 9
        }
      ]
    },
    {
      "cell_type": "markdown",
      "metadata": {
        "id": "F-O91DUM_uYV"
      },
      "source": [
        "![](https://i.imgur.com/YoHWLkf.png)\n"
      ]
    },
    {
      "cell_type": "code",
      "metadata": {
        "colab": {
          "base_uri": "https://localhost:8080/"
        },
        "id": "qnJ4Bdj2gZ1V",
        "outputId": "9543e1ed-5807-4459-dafe-8f9b2a6d6de7"
      },
      "source": [
        "dataset = sequences.map(split_input_target)\n",
        "\n",
        "for input_example,target_exaple in dataset.take(1):\n",
        "  print(\"Input :\", ind2word_seq(input_example.numpy()))\n",
        "  print(\"Target:\", ind2word_seq(target_exaple.numpy()))\n",
        "  print(\"-\"*50)\n",
        "  print(\"Input :\", input_example.numpy())\n",
        "  print(\"Target:\", target_exaple.numpy())"
      ],
      "execution_count": null,
      "outputs": [
        {
          "output_type": "stream",
          "name": "stdout",
          "text": [
            "Input : ['\\n', '《', '二', '○', '一', '七', '年', '五', '月', '五', '日', '版', '》', '\\n', '《', '好', '讀', '書', '》', '典']\n",
            "Target: ['《', '二', '○', '一', '七', '年', '五', '月', '五', '日', '版', '》', '\\n', '《', '好', '讀', '書', '》', '典', '藏']\n",
            "--------------------------------------------------\n",
            "Input : [1132  827  828   59 1131  688 1028  800  867  800  839  236  829 1132\n",
            "  827 1109  704 1035  829  380]\n",
            "Target: [ 827  828   59 1131  688 1028  800  867  800  839  236  829 1132  827\n",
            " 1109  704 1035  829  380  198]\n"
          ]
        }
      ]
    },
    {
      "cell_type": "code",
      "metadata": {
        "colab": {
          "base_uri": "https://localhost:8080/"
        },
        "id": "UNivSh2Igr2-",
        "outputId": "84199b05-9faf-4f4d-a50b-4e0f96ed6c5e"
      },
      "source": [
        "# 建立資料集\n",
        "# Batch size\n",
        "BATCH_SIZE = 64\n",
        "\n",
        "BUFFER_SIZE = 10000\n",
        "\n",
        "dataset = (\n",
        "    dataset\n",
        "    .shuffle(BUFFER_SIZE)\n",
        "    .batch(BATCH_SIZE, drop_remainder=True))\n",
        "\n",
        "dataset"
      ],
      "execution_count": null,
      "outputs": [
        {
          "output_type": "execute_result",
          "data": {
            "text/plain": [
              "<BatchDataset element_spec=(TensorSpec(shape=(64, 20), dtype=tf.int32, name=None), TensorSpec(shape=(64, 20), dtype=tf.int32, name=None))>"
            ]
          },
          "metadata": {},
          "execution_count": 13
        }
      ]
    },
    {
      "cell_type": "markdown",
      "metadata": {
        "id": "xcDWKSbYUWWB"
      },
      "source": [
        "## 4. 建立模型\n",
        "\n",
        "![](https://i.imgur.com/TBHKuf6.png)"
      ]
    },
    {
      "cell_type": "code",
      "metadata": {
        "colab": {
          "base_uri": "https://localhost:8080/"
        },
        "id": "UkRcSZAHnxlk",
        "outputId": "989ba533-4a63-4aab-9fb8-f4d03095befe"
      },
      "source": [
        "# 超參數\n",
        "EMBEDDING_DIM = 512\n",
        "\n",
        "# 使用 keras 建立一個非常簡單的 LSTM 模型\n",
        "model = tf.keras.Sequential()\n",
        "\n",
        "model.add(\n",
        "  tf.keras.layers.Embedding(\n",
        "    input_dim=len(unique_words), \n",
        "    output_dim=EMBEDDING_DIM\n",
        "))\n",
        "\n",
        "model.add(\n",
        "  tf.keras.layers.LSTM(\n",
        "    units=4096, \n",
        "    return_sequences=True, \n",
        "))\n",
        "\n",
        "model.add(\n",
        "  tf.keras.layers.LSTM(\n",
        "    units=2048, \n",
        "    return_sequences=True,\n",
        "))\n",
        "  \n",
        "model.add(\n",
        "  tf.keras.layers.Dense(\n",
        "      len(unique_words),activation=\"softmax\"))\n",
        "\n",
        "model.summary()"
      ],
      "execution_count": null,
      "outputs": [
        {
          "output_type": "stream",
          "name": "stdout",
          "text": [
            "Model: \"sequential\"\n",
            "_________________________________________________________________\n",
            " Layer (type)                Output Shape              Param #   \n",
            "=================================================================\n",
            " embedding (Embedding)       (None, None, 512)         582144    \n",
            "                                                                 \n",
            " lstm (LSTM)                 (None, None, 4096)        75513856  \n",
            "                                                                 \n",
            " lstm_1 (LSTM)               (None, None, 2048)        50339840  \n",
            "                                                                 \n",
            " dense (Dense)               (None, None, 1137)        2329713   \n",
            "                                                                 \n",
            "=================================================================\n",
            "Total params: 128,765,553\n",
            "Trainable params: 128,765,553\n",
            "Non-trainable params: 0\n",
            "_________________________________________________________________\n"
          ]
        }
      ]
    },
    {
      "cell_type": "code",
      "metadata": {
        "colab": {
          "base_uri": "https://localhost:8080/"
        },
        "id": "YKiszF5doFGz",
        "outputId": "6a2a9a36-dc3b-4eed-d10b-8608efbcbabf"
      },
      "source": [
        "# 查看模型的輸入、輸出 shape\n",
        "for input_example,target_exaple in dataset.take(1):\n",
        "  predict_example = model(input_example)\n",
        "  print(f\"Model input shape : {input_example.shape}\")\n",
        "  print(f\"Model output shape : {predict_example.shape}\")\n",
        "  print(f\"Model target shape : {target_exaple.shape}\")"
      ],
      "execution_count": null,
      "outputs": [
        {
          "output_type": "stream",
          "name": "stdout",
          "text": [
            "Model input shape : (64, 20)\n",
            "Model output shape : (64, 20, 1137)\n",
            "Model target shape : (64, 20)\n"
          ]
        }
      ]
    },
    {
      "cell_type": "code",
      "metadata": {
        "colab": {
          "base_uri": "https://localhost:8080/"
        },
        "id": "CsN6Zz4NReV4",
        "outputId": "26e6bff0-e39c-4684-ed34-28320b7a28ac"
      },
      "source": [
        "print(\"原本的中文字序列：\")\n",
        "[print(index_2_word[ind],end=\"\") for ind in input_example[0].numpy()]\n",
        "print()\n",
        "print(\"-\"*40)\n",
        "print(\"輸入尚未訓練的model後獲得：\")\n",
        "print()\n",
        "\n",
        "predict_words = tf.math.argmax(predict_example[0],-1)\n",
        "[print(index_2_word[ind],end=\"\") for ind in predict_words.numpy()]\n",
        "print()"
      ],
      "execution_count": null,
      "outputs": [
        {
          "output_type": "stream",
          "name": "stdout",
          "text": [
            "原本的中文字序列：\n",
            "承認我心中暗暗高興「比賽終於要結束，我也\n",
            "----------------------------------------\n",
            "輸入尚未訓練的model後獲得：\n",
            "\n",
            "踢哪告臉運漢漢漢強右右右臉臉臉臉臉臉靦惑\n"
          ]
        }
      ]
    },
    {
      "cell_type": "markdown",
      "metadata": {
        "id": "peEbrfDrUfuz"
      },
      "source": [
        "## 5. 制定訓練計畫並訓練\n",
        "\n",
        "* [sparse_categorical_crossentropy](https://www.tensorflow.org/api_docs/python/tf/keras/losses/sparse_categorical_crossentropy) V.S. [categorical_crossentropy](https://www.tensorflow.org/api_docs/python/tf/keras/losses/categorical_crossentropy)\n",
        "\n",
        "```python=\n",
        "# categorical_crossentropy\n",
        "y_true = [[0, 1, 0], [0, 0, 1]]\n",
        "y_pred = [[0.05, 0.95, 0], [0.1, 0.8, 0.1]]\n",
        "assert loss.shape == (2,)\n",
        "\n",
        "# sparse_categorical_crossentropy\n",
        "y_true = [1, 2]\n",
        "y_pred = [[0.05, 0.95, 0], [0.1, 0.8, 0.1]]\n",
        "assert loss.shape == (2,)\n",
        "\n",
        "```\n"
      ]
    },
    {
      "cell_type": "code",
      "metadata": {
        "id": "unPfQAQBonFj"
      },
      "source": [
        "model.compile(loss=\"sparse_categorical_crossentropy\",optimizer=\"adam\")"
      ],
      "execution_count": null,
      "outputs": []
    },
    {
      "cell_type": "code",
      "metadata": {
        "colab": {
          "base_uri": "https://localhost:8080/"
        },
        "id": "5IW5xiiMpJhJ",
        "outputId": "7b17b970-7bd4-4d79-f2d7-9b454763f3f7"
      },
      "source": [
        "EPOCHS = 20\n",
        "history = model.fit(\n",
        "    dataset, # 前面使用 tf.data 建構的資料集\n",
        "    epochs=EPOCHS,\n",
        ")"
      ],
      "execution_count": null,
      "outputs": [
        {
          "output_type": "stream",
          "name": "stdout",
          "text": [
            "Epoch 1/20\n",
            "68/68 [==============================] - 24s 308ms/step - loss: 6.1621\n",
            "Epoch 2/20\n",
            "68/68 [==============================] - 22s 315ms/step - loss: 5.6837\n",
            "Epoch 3/20\n",
            "68/68 [==============================] - 22s 325ms/step - loss: 5.3429\n",
            "Epoch 4/20\n",
            "68/68 [==============================] - 23s 329ms/step - loss: 5.0895\n",
            "Epoch 5/20\n",
            "68/68 [==============================] - 23s 337ms/step - loss: 4.8978\n",
            "Epoch 6/20\n",
            "68/68 [==============================] - 24s 344ms/step - loss: 4.7193\n",
            "Epoch 7/20\n",
            "68/68 [==============================] - 24s 349ms/step - loss: 4.5443\n",
            "Epoch 8/20\n",
            "68/68 [==============================] - 24s 348ms/step - loss: 4.3714\n",
            "Epoch 9/20\n",
            "68/68 [==============================] - 24s 354ms/step - loss: 4.1948\n",
            "Epoch 10/20\n",
            "68/68 [==============================] - 25s 363ms/step - loss: 4.0150\n",
            "Epoch 11/20\n",
            "68/68 [==============================] - 24s 352ms/step - loss: 3.8066\n",
            "Epoch 12/20\n",
            "68/68 [==============================] - 25s 360ms/step - loss: 3.5763\n",
            "Epoch 13/20\n",
            "68/68 [==============================] - 24s 351ms/step - loss: 3.3124\n",
            "Epoch 14/20\n",
            "68/68 [==============================] - 24s 347ms/step - loss: 3.0044\n",
            "Epoch 15/20\n",
            "68/68 [==============================] - 24s 350ms/step - loss: 2.6437\n",
            "Epoch 16/20\n",
            "68/68 [==============================] - 24s 353ms/step - loss: 2.2235\n",
            "Epoch 17/20\n",
            "68/68 [==============================] - 24s 348ms/step - loss: 1.7619\n",
            "Epoch 18/20\n",
            "68/68 [==============================] - 24s 357ms/step - loss: 1.2882\n",
            "Epoch 19/20\n",
            "68/68 [==============================] - 24s 351ms/step - loss: 0.8481\n",
            "Epoch 20/20\n",
            "68/68 [==============================] - 24s 351ms/step - loss: 0.5273\n"
          ]
        }
      ]
    },
    {
      "cell_type": "markdown",
      "metadata": {
        "id": "J-DD-OibUj64"
      },
      "source": [
        "## 6. 衡量模型"
      ]
    },
    {
      "cell_type": "code",
      "metadata": {
        "id": "xxbK80fXpOWD",
        "colab": {
          "base_uri": "https://localhost:8080/",
          "height": 295
        },
        "outputId": "f1f72c55-7c84-4d48-9331-e8adfe4bd3de"
      },
      "source": [
        "plt.plot(history.history['loss'])\n",
        "plt.title('model loss')\n",
        "plt.ylabel('loss')\n",
        "plt.xlabel('epoch')\n",
        "\n",
        "plt.show()"
      ],
      "execution_count": null,
      "outputs": [
        {
          "output_type": "display_data",
          "data": {
            "text/plain": [
              "<Figure size 432x288 with 1 Axes>"
            ],
            "image/png": "[encoded data removed]"
          },
          "metadata": {
            "needs_background": "light"
          }
        }
      ]
    },
    {
      "cell_type": "code",
      "metadata": {
        "id": "A3elbMNg4z4N",
        "colab": {
          "base_uri": "https://localhost:8080/"
        },
        "outputId": "fda078a8-43f3-4258-bea1-dd217991a955"
      },
      "source": [
        "after_train_predictions = model(input_example)\n",
        "after_sampled_indices = tf.argmax(after_train_predictions[0],1)\n",
        "\n",
        "print(\"原本的中文字序列：\")\n",
        "[print(index_2_word[ind],end=\"\") for ind in input_example[0].numpy()]\n",
        "print()\n",
        "print(\"-\"*40)\n",
        "print(\"輸入進訓練後的model後獲得：\")\n",
        "print()\n",
        "\n",
        "[print(index_2_word[ind],end=\"\") for ind in after_sampled_indices.numpy()]\n",
        "print()"
      ],
      "execution_count": null,
      "outputs": [
        {
          "output_type": "stream",
          "name": "stdout",
          "text": [
            "原本的中文字序列：\n",
            "承認我心中暗暗高興「比賽終於要結束，我也\n",
            "----------------------------------------\n",
            "輸入進訓練後的model後獲得：\n",
            "\n",
            "認我心中暗暗高興「比賽終於要結束，我也可\n"
          ]
        }
      ]
    },
    {
      "cell_type": "markdown",
      "metadata": {
        "id": "v-ZgfcpVUpbc"
      },
      "source": [
        "## 7. 做預測\n",
        "\n",
        "![](https://i.imgur.com/YsOj6Mw.png)\n",
        "\n",
        "在實際生成文字時，我們會想要增加一些隨機性。比如”天天出去” 不加入隨機 “天天天天” 如果我們全部輸出的字都是取softmax最大可能性，則一個訓練完美的model會把整本書給輸出出來。但是我們要的是，希望電腦在最大可能性的幾個字中隨機挑選一個字出來。\n",
        "\n",
        "tf.random.categorical 會根據softmax機率後隨機挑選字，但是我們不希望因為模型很爛導致不合理的字被選中，因此我們會除上一個temperature來增加可能字的比重。\n",
        "\n",
        "EX: \"天天出去\" 預測下一個字\n",
        "1. 玩 : 0.3 \n",
        "2. 天 : 0.1 \n",
        "3. 浪 : 0.4 \n",
        "\n",
        "\"天\"有的機率被印出，我們不希望。所以我們可以在每一個機率除上一個temperature(0.01)\n",
        "1. 玩 : 30 \n",
        "2. 天 : 10 \n",
        "3. 浪 : 40 \n",
        "原本\"浪\"跟\"天\"差0.3，除temperature後差30\n",
        "\n"
      ]
    },
    {
      "cell_type": "code",
      "metadata": {
        "id": "b3ryhOIg4-qB"
      },
      "source": [
        "# 預測文字，並把預測文字循環當作下一次的輸入\n",
        "\n",
        "# 設定你的temperature\n",
        "temperature = 0.01\n",
        "\n",
        "def generateWords(input,words=500):\n",
        "  [print(index_2_word[ind],end=\"\") for ind in input]\n",
        "  for i in range(words):\n",
        "    next_input = tf.expand_dims(input,axis=0)\n",
        "    predicts = model(next_input)\n",
        "    predicts = predicts[:,-1,:]\n",
        "    predicts /= temperature\n",
        "    result = tf.random.categorical(\n",
        "        predicts,num_samples=1\n",
        "    )\n",
        "    chinese_ind = tf.squeeze(result).numpy()\n",
        "    print(index_2_word[chinese_ind],end=\"\")\n",
        "    input = input+[chinese_ind]\n",
        "    input = input[-seq_len:]"
      ],
      "execution_count": null,
      "outputs": []
    },
    {
      "cell_type": "code",
      "metadata": {
        "id": "l7ELuAjW3rKW",
        "colab": {
          "base_uri": "https://localhost:8080/"
        },
        "outputId": "3b20e4a6-1315-48b3-a543-1695c8ed753b"
      },
      "source": [
        "init_seq = \"男孩\"\n",
        "init_seq_ind = [word_2_index[w] for w in init_seq]\n",
        "input = init_seq_ind[-seq_len:]\n",
        "\n",
        "generateWords(input,500)"
      ],
      "execution_count": null,
      "outputs": [
        {
          "output_type": "stream",
          "name": "stdout",
          "text": [
            "男孩的好朋友：超有義氣，分文未取。然而我真的不想意思，也要被我家面裏的一切都很久，因為我帶的不是重點，再怎麼介都不會比你們？我們一起追的女孩」與手指鍵盤共時，就是這麼一點點。\n",
            "我們兩個人的身線與沈佳儀發現在喜歡沈佳儀的男孩，可以我們的生命裏也會在這裏課本她家的自己，都有一個對不。」\n",
            "「我想大學畢業嗎？」我站起，伸了個若有所思的「絕對區，但我的手卻自己很喜歡沈佳儀。」許博淳跟我刻意坐在桌子上裝睡。\n",
            "「你們男生的時候，你可以去打打打電話給李小華問，討論起婚禮結束。\n",
            "回到學校，男生五年，女生五小隊，男生五小隊，活動的內容一跟佛學生生，等到宿舍的廣場。\n",
            "「等到聯考，這麼辦。」我著鼻孔，看著她的頭短髮。\n",
            "「我覺得只要……」\n",
            "「……」\n",
            "「我又沒有要做到。」\n",
            "「我又沒有要做到死穴！」許博淳說，長了我的想法。\n",
            "「就這樣，錯你的比人還真不錯。」我沒有所思，著小耳朵。\n",
            "「靠，你去死啦！」許博淳說，長了我的想法。\n",
            "「就這樣喔？」我著下巴，心不在看著講臺上說道。\n",
            "「不是，我這樣會做到。」\n",
            "「我又不要跟沈佳儀說，我可能會機你追她說話！」\n",
            "「……」我從爾地看著肩。\n",
            "「我想，你跟你說，但你一定會沒有辦法。」\n",
            "「我想念復"
          ]
        }
      ]
    },
    {
      "cell_type": "code",
      "metadata": {
        "id": "LdT8wg_P6CtF"
      },
      "source": [
        "# 不要執行這一個block\n",
        "import time\n",
        "while True:\n",
        "  time.sleep(5)\n",
        "  pass"
      ],
      "execution_count": null,
      "outputs": []
    },
    {
      "cell_type": "markdown",
      "metadata": {
        "id": "i-_4vCX4e3ZA"
      },
      "source": [
        "## 作業2.1 (30%)\n",
        "\n",
        "使用[爬蟲程式](https://colab.research.google.com/drive/1f_HvQEvgkJPFc473TlA-I_3EmkThA2SR?usp=sharing)來取得一個新的文本資料集，或是不管你從哪裡取得的資料集也可以(不要再張愛玲了，不限中英文)。然後丟入這個模型來看看AI生成文字的成果，將**結果**與**你的心得**(不是機器產生的心得)，貼上pdf。\n",
        "\n",
        "請隨意修改本colab的模型與參數來達到更好的結果。\n",
        "\n",
        "資料集越有趣越好，比如你可以去爬PTT文章來製作廢文產生器。去爬Dcard製作幻想文產生器。"
      ]
    },
    {
      "cell_type": "code",
      "metadata": {
        "id": "erwsMKL08Ql9",
        "colab": {
          "base_uri": "https://localhost:8080/"
        },
        "outputId": "273a39b8-ed46-4c2c-e77d-905b6e427c69"
      },
      "source": [
        "init_seq = \"女孩\"\n",
        "init_seq_ind = [word_2_index[w] for w in init_seq]\n",
        "input = init_seq_ind[-seq_len:]\n",
        "\n",
        "generateWords(input,1000)"
      ],
      "execution_count": null,
      "outputs": [
        {
          "output_type": "stream",
          "name": "stdout",
          "text": [
            "女孩「花、台」兩地相隔的苦境。他們小口僅僅用功用功，在日中的「還有一點，上上國中就是不可能的地方，每次下課就會打電話給沈佳儀，幸好接電話的正是沈佳儀與我之間的自己，已經可以養家我們的去。\n",
            "「對了，我這次會做不到，我就這麼愛上跟我們一起洗的女孩淑，成績非常難受，卻很高興的句。\n",
            "有一天，我不能再回頭。\n",
            "我非常滿足地欣賞，沈佳儀研究我刻著甜筒。\n",
            "「不要，我根本沒有在生手。」沈佳儀一個字一個字說，一個個幸的冷笑。\n",
            "「怒啊，那我自己看著辦。」我著頭，不用自己的語氣。\n",
            "「不要那麼，我們一定會有你自己。」我起肉片大口說，一邊在電話。\n",
            "「……」\n",
            "「我想念。」\n",
            "「我又沒有要做到。」許博淳說，長了我的想法。\n",
            "「……」我。\n",
            "「我想得，我一定會到你，你都不會再做什麼啦？」許博淳有些反。\n",
            "「你不是說一定要在第一天，但我還是沒有說，但我的手再也得認真。\n",
            "真正認識，只要踏力一點，就是我們這個男生最大的一行。\n",
            "這樣不斷的房間，我在一起也不奇怪的事，例如在抽屜裏種花，把考卷成細的紙片當花到處亂在同學頭上。此外，我老是在找人陪我到走外打毛球，流流沒有聯考壓力。\n",
            "「……」我。\n",
            "我來下腳踏車，阿和在跟我交中時候去去學校念書，以後用可能竹的樣子就在一起，很多義氣卻默不住。\n",
            "我玩下，誤以於有時間，我台中口離，不斷足到我對繞的。\n",
            "有一次愛情，我都能能無法克制的望。\n",
            "我終於擁有，我只是大家在一起。\n",
            "「我也沒辦法，你就只能說，我們一起追的女孩」與手指鍵盤打，看著沈佳儀頗有好感，隱遇下我心頭的。\n",
            "有一點，我還是無法迴避我跟沈佳儀的交情，我還是越來越高，卻越容易上手的，有時候大家才會結束，讓我無法收，不約而我。\n",
            "「對了，我跟許博淳還是我笑了出來。」許博淳說，拿著紙牌環顧四周。\n",
            "「哈哈，對我的青春，從我自己都會害怕啊。」我嘻嘻笑，一點也沒子。\n",
            "「你沒有你自己。」許博淳有些吃驚的表情。\n",
            "「不是，我是個性。」我說，看著手指上印著甜筒。\n",
            "「不會，你是這樣說沒錯，但你最好深呼吸一下。」許博淳倒，忍不住提醒我的肩。\n",
            "「我也不想跟沈佳儀講話耶。」怪獸坐在樹下。\n",
            "「我也有你不知道的一面啊，我的女孩都會真的蠻可思議！」許博淳哼哼坐下，排好陣頭。\n",
            "「不要，我根本沒有人會死。」我著鼻孔。\n",
            "「不要，我剛剛已經點了……」\n",
            "沈佳儀。\n",
            "「……」沈佳儀停下腳步，可是她的眼神。\n",
            "「我也不想，你跟沈佳儀只是喜歡聊，一個人一個新約特好的朋友。\n",
            "我們兩個人，沈佳"
          ]
        }
      ]
    }
  ]
}